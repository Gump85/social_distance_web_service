{
  "nbformat": 4,
  "nbformat_minor": 0,
  "metadata": {
    "colab": {
      "name": "AmCentr_NN_app_01.ipynb",
      "provenance": [],
      "collapsed_sections": []
    },
    "kernelspec": {
      "name": "python3",
      "display_name": "Python 3"
    }
  },
  "cells": [
    {
      "cell_type": "code",
      "metadata": {
        "id": "BnN9ay00X8Wc",
        "colab_type": "code",
        "colab": {}
      },
      "source": [
        "import os\n",
        "from werkzeug.utils import secure_filename\n",
        "import numpy as np # linear algebra\n",
        "import pandas as pd\n",
        "import torch\n",
        "import torchvision\n",
        "from torchvision import transforms\n",
        "from tqdm import tqdm\n",
        "import shutil \n",
        "import matplotlib.pyplot as plt\n",
        "import time\n",
        "import copy\n",
        "from PIL import Image\n"
      ],
      "execution_count": 28,
      "outputs": []
    },
    {
      "cell_type": "code",
      "metadata": {
        "id": "IjkUC1wVYEAB",
        "colab_type": "code",
        "colab": {
          "base_uri": "https://localhost:8080/",
          "height": 35
        },
        "outputId": "f0ffc82b-4e4e-4f56-81bd-4b4b71096a3d"
      },
      "source": [
        "#connect to google drive where dataset is model h5\n",
        "from google.colab import drive\n",
        "drive.mount ('/content/gdrive', force_remount = True)"
      ],
      "execution_count": 29,
      "outputs": [
        {
          "output_type": "stream",
          "text": [
            "Mounted at /content/gdrive\n"
          ],
          "name": "stdout"
        }
      ]
    },
    {
      "cell_type": "code",
      "metadata": {
        "id": "VIbR6vFQYICx",
        "colab_type": "code",
        "colab": {
          "base_uri": "https://localhost:8080/",
          "height": 35
        },
        "outputId": "274d0ab3-5c03-4cdf-cd29-8929f56ef3a4"
      },
      "source": [
        "!ls /content/gdrive/'My Drive'/dataset0011/"
      ],
      "execution_count": 30,
      "outputs": [
        {
          "output_type": "stream",
          "text": [
            "dataset0011.zip  model_0011_01.h5  test  train\n"
          ],
          "name": "stdout"
        }
      ]
    },
    {
      "cell_type": "code",
      "metadata": {
        "id": "rvvDZJVieYz4",
        "colab_type": "code",
        "colab": {}
      },
      "source": [
        "class ImageFolderWithPaths(torchvision.datasets.ImageFolder):\n",
        "    def __getitem__(self, index):\n",
        "        original_tuple = super(ImageFolderWithPaths, self).__getitem__(index)\n",
        "        path = self.imgs[index][0]\n",
        "        tuple_with_path = (original_tuple + (path,))\n",
        "        return tuple_with_path\n",
        "\n",
        "ALLOWED_EXTENSIONS=set(['jpg', 'jpeg'])"
      ],
      "execution_count": 31,
      "outputs": []
    },
    {
      "cell_type": "code",
      "metadata": {
        "id": "nxeKJjIbeiMV",
        "colab_type": "code",
        "colab": {}
      },
      "source": [
        "def allowed_file(filename):\n",
        "    return '.' in filename and filename.lower().rsplit('.', 1)[1] in ALLOWED_EXTENSIONS"
      ],
      "execution_count": 32,
      "outputs": []
    },
    {
      "cell_type": "code",
      "metadata": {
        "id": "X1cMfN8RekPa",
        "colab_type": "code",
        "colab": {}
      },
      "source": [
        "model = torch.load(\"../content/gdrive/My Drive/dataset0011/model_0011_01.h5\")\n",
        "\n",
        "UPLOAD_FOLDER = '../content/gdrive/My Drive/dataset0011/'\n",
        "data_root = '../content/gdrive/My Drive/dataset0011/'\n",
        "test_dir = '../content/gdrive/My Drive/dataset0011/'"
      ],
      "execution_count": 39,
      "outputs": []
    },
    {
      "cell_type": "code",
      "metadata": {
        "id": "LIR-s0zyYMyu",
        "colab_type": "code",
        "colab": {}
      },
      "source": [
        "def get_prediction():\n",
        "     \n",
        "    val_transforms = transforms.Compose([\n",
        "        transforms.Resize((224, 224)),\n",
        "        transforms.ToTensor(),\n",
        "        transforms.Normalize([0.485, 0.456, 0.406], [0.229, 0.224, 0.225])\n",
        "    ])  \n",
        "    test_dataset = ImageFolderWithPaths(test_dir, val_transforms)\n",
        "    #test_dataset = torchvision.datasets.ImageFolder(test_dir, val_transforms)\n",
        "\n",
        "    test_dataloader = torch.utils.data.DataLoader(\n",
        "        test_dataset, batch_size=2, shuffle=False, num_workers=0)\n",
        "    model.eval()\n",
        "\n",
        "    test_predictions = []\n",
        "    test_img_paths = []\n",
        "    for inputs, labels, paths in tqdm(test_dataloader):\n",
        "        #inputs = inputs.to(device)\n",
        "        #labels = labels.to(device)\n",
        "        with torch.set_grad_enabled(False):\n",
        "            preds = model(inputs)\n",
        "        test_predictions.append(\n",
        "            torch.nn.functional.softmax(preds, dim=1)[:,1].data.cpu().numpy())\n",
        "        test_img_paths.extend(paths)\n",
        "    \n",
        "    test_predictions = np.concatenate(test_predictions)\n",
        "\n",
        "    inputs, labels, paths = next(iter(test_dataloader))\n",
        "    submission_df = pd.DataFrame.from_dict({'id': test_img_paths, 'label': test_predictions})\n",
        "    submission_df['label'] = submission_df['label'].map(lambda pred: 'People' if pred > 0.5 else 'NoPeople')\n",
        "    submission_df['id'] = submission_df['id'].str.replace('../content/gdrive/My Drive/dataset0011/', '')\n",
        "    submission_df['id'] = submission_df['id'].str.replace('.jpg', '')    \n",
        "    return submission_df"
      ],
      "execution_count": 44,
      "outputs": []
    },
    {
      "cell_type": "code",
      "metadata": {
        "id": "hTjGjF6xgHVL",
        "colab_type": "code",
        "colab": {
          "base_uri": "https://localhost:8080/",
          "height": 284
        },
        "outputId": "46bb1bda-816e-4615-d7fa-1bd71aa0f332"
      },
      "source": [
        "res = get_prediction()\n",
        "print(res)"
      ],
      "execution_count": 45,
      "outputs": [
        {
          "output_type": "stream",
          "text": [
            "100%|██████████| 32/32 [00:13<00:00,  2.46it/s]\n"
          ],
          "name": "stderr"
        },
        {
          "output_type": "stream",
          "text": [
            "                   id     label\n",
            "0    test/IMG_9593_00  NoPeople\n",
            "1    test/IMG_9594_11  NoPeople\n",
            "2    test/IMG_9601_00  NoPeople\n",
            "3    test/IMG_9607_11    People\n",
            "4    test/IMG_9614_11    People\n",
            "..                ...       ...\n",
            "58  train/11/IMG_9622  NoPeople\n",
            "59  train/11/IMG_9623  NoPeople\n",
            "60  train/11/IMG_9624    People\n",
            "61  train/11/IMG_9626  NoPeople\n",
            "62  train/11/IMG_9629  NoPeople\n",
            "\n",
            "[63 rows x 2 columns]\n"
          ],
          "name": "stdout"
        }
      ]
    },
    {
      "cell_type": "code",
      "metadata": {
        "id": "nPXKOCaDdVDj",
        "colab_type": "code",
        "colab": {}
      },
      "source": [
        "!pip freeze  > requirements.txt"
      ],
      "execution_count": 46,
      "outputs": []
    },
    {
      "cell_type": "code",
      "metadata": {
        "id": "HvrbwMiNl-JN",
        "colab_type": "code",
        "colab": {
          "base_uri": "https://localhost:8080/",
          "height": 35
        },
        "outputId": "e083c255-765c-4e35-b7d9-0006268f0464"
      },
      "source": [
        "!ls"
      ],
      "execution_count": 47,
      "outputs": [
        {
          "output_type": "stream",
          "text": [
            "gdrive\trequirements.txt  sample_data\n"
          ],
          "name": "stdout"
        }
      ]
    },
    {
      "cell_type": "code",
      "metadata": {
        "id": "8ORoTTMjl-fm",
        "colab_type": "code",
        "colab": {
          "base_uri": "https://localhost:8080/",
          "height": 17
        },
        "outputId": "825ad596-0cc9-46d7-f087-7f41aba541db"
      },
      "source": [
        "from google.colab import files\n",
        "\n",
        "files.download('requirements.txt')"
      ],
      "execution_count": 48,
      "outputs": [
        {
          "output_type": "display_data",
          "data": {
            "application/javascript": [
              "\n",
              "    async function download(id, filename, size) {\n",
              "      if (!google.colab.kernel.accessAllowed) {\n",
              "        return;\n",
              "      }\n",
              "      const div = document.createElement('div');\n",
              "      const label = document.createElement('label');\n",
              "      label.textContent = `Downloading \"${filename}\": `;\n",
              "      div.appendChild(label);\n",
              "      const progress = document.createElement('progress');\n",
              "      progress.max = size;\n",
              "      div.appendChild(progress);\n",
              "      document.body.appendChild(div);\n",
              "\n",
              "      const buffers = [];\n",
              "      let downloaded = 0;\n",
              "\n",
              "      const channel = await google.colab.kernel.comms.open(id);\n",
              "      // Send a message to notify the kernel that we're ready.\n",
              "      channel.send({})\n",
              "\n",
              "      for await (const message of channel.messages) {\n",
              "        // Send a message to notify the kernel that we're ready.\n",
              "        channel.send({})\n",
              "        if (message.buffers) {\n",
              "          for (const buffer of message.buffers) {\n",
              "            buffers.push(buffer);\n",
              "            downloaded += buffer.byteLength;\n",
              "            progress.value = downloaded;\n",
              "          }\n",
              "        }\n",
              "      }\n",
              "      const blob = new Blob(buffers, {type: 'application/binary'});\n",
              "      const a = document.createElement('a');\n",
              "      a.href = window.URL.createObjectURL(blob);\n",
              "      a.download = filename;\n",
              "      div.appendChild(a);\n",
              "      a.click();\n",
              "      div.remove();\n",
              "    }\n",
              "  "
            ],
            "text/plain": [
              "<IPython.core.display.Javascript object>"
            ]
          },
          "metadata": {
            "tags": []
          }
        },
        {
          "output_type": "display_data",
          "data": {
            "application/javascript": [
              "download(\"download_bbebd59a-90fe-4d90-b909-4f5543a30715\", \"requirements.txt\", 6618)"
            ],
            "text/plain": [
              "<IPython.core.display.Javascript object>"
            ]
          },
          "metadata": {
            "tags": []
          }
        }
      ]
    },
    {
      "cell_type": "code",
      "metadata": {
        "id": "j0qeQW4jl-1x",
        "colab_type": "code",
        "colab": {}
      },
      "source": [
        ""
      ],
      "execution_count": null,
      "outputs": []
    }
  ]
}